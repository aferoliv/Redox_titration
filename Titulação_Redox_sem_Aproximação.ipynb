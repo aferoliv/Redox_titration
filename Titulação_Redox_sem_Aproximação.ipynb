{
  "nbformat": 4,
  "nbformat_minor": 0,
  "metadata": {
    "colab": {
      "provenance": [],
      "authorship_tag": "ABX9TyO4XiMuxg4m3Ok17aGKqMqJ",
      "include_colab_link": true
    },
    "kernelspec": {
      "name": "python3",
      "display_name": "Python 3"
    },
    "language_info": {
      "name": "python"
    }
  },
  "cells": [
    {
      "cell_type": "markdown",
      "metadata": {
        "id": "view-in-github",
        "colab_type": "text"
      },
      "source": [
        "<a href=\"https://colab.research.google.com/github/aferoliv/Redox_titration/blob/main/Titula%C3%A7%C3%A3o_Redox_sem_Aproxima%C3%A7%C3%A3o.ipynb\" target=\"_parent\"><img src=\"https://colab.research.google.com/assets/colab-badge.svg\" alt=\"Open In Colab\"/></a>"
      ]
    },
    {
      "cell_type": "markdown",
      "source": [
        "Simulação de Curva de Titulação Redox (sem aproximação)"
      ],
      "metadata": {
        "id": "CtBxMHBIoK0b"
      }
    },
    {
      "cell_type": "code",
      "source": [
        "import pandas as pd\n",
        "import numpy as np\n",
        "import matplotlib.pyplot as plt\n",
        "#from sympy import *\n",
        "#from sympy.solvers.solveset import nonlinsolve\n"
      ],
      "metadata": {
        "id": "-6Ovd6b5npkf"
      },
      "execution_count": null,
      "outputs": []
    },
    {
      "cell_type": "markdown",
      "source": [
        "Condições da Titulação"
      ],
      "metadata": {
        "id": "U9riwWL3oS-U"
      }
    },
    {
      "cell_type": "code",
      "source": [
        "# constantes\n",
        "S=59.16     # constante Nernstiana\n",
        "\n",
        "# titulante\n",
        "conc_N=0.15\n",
        "Eo_N=219\n",
        "ne_N=2\n",
        "coef_N=2\n",
        "\n",
        "#titulado\n",
        "conc_A=0.01\n",
        "Eo_A=675\n",
        "ne_A=5\n",
        "coef_A=1\n",
        "Vo=25"
      ],
      "metadata": {
        "id": "I8viWXmJnqJz"
      },
      "execution_count": null,
      "outputs": []
    },
    {
      "cell_type": "markdown",
      "source": [
        "Funções\n",
        "\n",
        "f_ox e f_red: fração de equilíbrio redox"
      ],
      "metadata": {
        "id": "IA1vBlFGoWQs"
      }
    },
    {
      "cell_type": "code",
      "source": [
        "\n",
        "def fredox(E,Eo,ne,coef,estado):\n",
        "   Q=10**((Eo-E)*ne/S)\n",
        "   if estado==\"red\":\n",
        "      fr= Q/(Q+1)\n",
        "   elif estado==\"ox\":\n",
        "      fr= 1/(Q+1)\n",
        "   else:\n",
        "      print(\"estado?\")\n",
        "   return fr\n",
        "\n",
        "def excesso(conc_N,coef_N,V,conc_A,coef_A, Vo):\n",
        "   excesso=(coef_N*conc_N*V/1000-coef_A*conc_A*Vo)/(Vo+V/1000)\n",
        "   return excesso\n",
        "\n"
      ],
      "metadata": {
        "id": "OHsiYyQRoHY7"
      },
      "execution_count": null,
      "outputs": []
    },
    {
      "cell_type": "code",
      "source": [
        "incr=50\n",
        "num_pontos=50\n",
        "v_final=num_pontos*incr\n",
        "estado_N=\"red\"\n",
        "if estado_N==\"red\":\n",
        "   estado_A=\"ox\"\n",
        "else:\n",
        "   estado_A=\"red\""
      ],
      "metadata": {
        "id": "CCxLfzUx-wlh"
      },
      "execution_count": null,
      "outputs": []
    },
    {
      "cell_type": "code",
      "source": [
        "curva=[]\n",
        "for V in range(0,v_final,incr) :\n",
        "     excess=excesso(conc_N,coef_N,V,conc_A,coef_A, Vo)\n",
        "     E=-2000\n",
        "     E_incr=200\n",
        "     i=0\n",
        "     dif=1\n",
        "     dif1=1 # inicialize dif1 com um valor diferente de zero para evitar divisão por zero na primeira iteração\n",
        "\n",
        "     while  abs(dif)>1e-7:\n",
        "        i=i+1\n",
        "        E=E+E_incr\n",
        "        #print(E,incr)\n",
        "        eq_N=coef_N*fredox(E,Eo_N,ne_N,coef_N,estado_N)*conc_N*V/1000\n",
        "        eq_A=coef_A*fredox(E,Eo_A, ne_A, coef_A, estado_A)*conc_A*Vo\n",
        "        dif=(excess-(eq_N-eq_A))\n",
        "        #\n",
        "        #print(i, E,\"razao\",dif1*dif,\"abs(dif)\",abs(dif), eq_N,eq_A)\n",
        "        #\n",
        "        if (i==1):\n",
        "          dif1=dif\n",
        "        if (dif1*dif)<0:\n",
        "           E_incr=-E_incr/2\n",
        "        dif1=dif\n",
        "\n",
        "        '''\n",
        "        if (dif==0):\n",
        "          dif=1e-15\n",
        "        if (i==200 or E>2000):\n",
        "          print(\"não convergiu\")\n",
        "          dif=1e-15\n",
        "        '''\n",
        "     #print(\"volume\", V,\"E calc\",E,\"iterações\",i,\"excesso\",excess)\n",
        "     ponto=V,E,i,excess\n",
        "     curva.append(ponto)\n",
        "curva_colab=pd.DataFrame(curva)\n",
        "curva_colab.to_excel(\"curva-colab.xlsx\")\n",
        "\n",
        "print(curva_colab)\n",
        "     #A=nonlinsolve([excess-(coef_N*fredox(E,Eo_N,ne_N,coef_N,estado_N)*conc_N*V/1000-coef_A*fredox(E,Eo_A, ne_A, coef_A, estado_A))/(Vo+V/1000)],[E])\n",
        "     #print(A)\n",
        "\n"
      ],
      "metadata": {
        "id": "IZON9jE-oj7B",
        "colab": {
          "base_uri": "https://localhost:8080/"
        },
        "outputId": "45a22d0d-da25-46f7-dc41-bab85dc66807"
      },
      "execution_count": null,
      "outputs": [
        {
          "output_type": "stream",
          "name": "stdout",
          "text": [
            "       0           1   2         3\n",
            "0      0  658.669376  45 -0.010000\n",
            "1    100  657.965565  42 -0.008765\n",
            "2    200  657.165718  44 -0.007540\n",
            "3    300  656.236649  42 -0.006324\n",
            "4    400  655.124092  44 -0.005118\n",
            "5    500  653.730583  46 -0.003922\n",
            "6    600  651.853180  43 -0.002734\n",
            "7    700  648.932648  37 -0.001556\n",
            "8    800  641.766357  40 -0.000388\n",
            "9    900  294.204712  37  0.000772\n",
            "10  1000  283.790588  37  0.001923\n",
            "11  1100  278.988647  37  0.003065\n",
            "12  1200  276.033783  40  0.004198\n",
            "13  1300  273.986816  33  0.005323\n",
            "14  1400  272.471619  39  0.006439\n",
            "15  1500  271.299744  39  0.007547\n",
            "16  1600  270.365715  44  0.008647\n",
            "17  1700  269.603539  44  0.009738\n",
            "18  1800  268.970680  44  0.010821\n",
            "19  1900  268.437576  42  0.011896\n",
            "20  2000  267.983246  42  0.012963\n",
            "21  2100  267.592621  40  0.014022\n",
            "22  2200  267.253685  45  0.015074\n",
            "23  2300  266.957855  42  0.016117\n",
            "24  2400  266.698074  45  0.017153\n",
            "25  2500  266.469002  47  0.018182\n",
            "26  2600  266.265965  46  0.019203\n",
            "27  2700  266.085434  43  0.020217\n",
            "28  2800  265.924454  42  0.021223\n",
            "29  2900  265.780640  38  0.022222\n",
            "30  3000  265.651703  40  0.023214\n",
            "31  3100  265.536118  40  0.024199\n",
            "32  3200  265.432358  42  0.025177\n",
            "33  3300  265.338993  43  0.026148\n",
            "34  3400  265.255070  44  0.027113\n",
            "35  3500  265.179539  44  0.028070\n",
            "36  3600  265.111732  47  0.029021\n",
            "37  3700  265.050793  47  0.029965\n",
            "38  3800  264.996052  45  0.030903\n",
            "39  3900  264.947081  47  0.031834\n",
            "40  4000  264.903259  40  0.032759\n",
            "41  4100  264.864254  44  0.033677\n",
            "42  4200  264.829540  45  0.034589\n",
            "43  4300  264.798927  45  0.035495\n",
            "44  4400  264.771938  43  0.036395\n",
            "45  4500  264.748383  38  0.037288\n",
            "46  4600  264.727974  42  0.038176\n",
            "47  4700  264.710522  48  0.039057\n",
            "48  4800  264.695740  38  0.039933\n",
            "49  4900  264.683437  44  0.040803\n"
          ]
        }
      ]
    },
    {
      "cell_type": "code",
      "source": [
        "x=curva_colab[0]\n",
        "y=curva_colab[1]\n",
        "Xlabel=\"Volume\"\n",
        "Ylabel=\"Diferença de Potencial E/mV\"\n",
        "plt.title(\"Curva de titulação\")\n",
        "plt.xlabel(Xlabel)\n",
        "plt.ylabel(Ylabel)\n",
        "plt.scatter(x,y)\n",
        "plt.show()"
      ],
      "metadata": {
        "colab": {
          "base_uri": "https://localhost:8080/",
          "height": 472
        },
        "id": "C5lJmV2VEAMm",
        "outputId": "7aca063b-2f57-4160-fcf3-1225d5d36cf4"
      },
      "execution_count": null,
      "outputs": [
        {
          "output_type": "display_data",
          "data": {
            "text/plain": [
              "<Figure size 640x480 with 1 Axes>"
            ],
            "image/png": "[encoded data removed]"
          },
          "metadata": {}
        }
      ]
    },
    {
      "cell_type": "markdown",
      "source": [
        "Grafico da fração de equilíbrio"
      ],
      "metadata": {
        "id": "KqPFXYW6GnwB"
      }
    },
    {
      "cell_type": "code",
      "source": [
        "alfa_N_ox=fredox(E,Eo_N,ne_N,coef_N,estado_N)\n",
        "alfa_A_ox=fredox(E,Eo_A, ne_A, coef_A, estado_A)\n",
        "alfa_N_red=1-alfa_N_ox\n",
        "alfa_A_red=1-alfa_A_ox\n",
        "print(alfa_N_ox,alfa_A_ox,alfa_N_red,alfa_A_red)"
      ],
      "metadata": {
        "colab": {
          "base_uri": "https://localhost:8080/"
        },
        "id": "ATUmpvSaGm-i",
        "outputId": "4292645c-fe8d-4e4b-cd57-da6f22b5edaf"
      },
      "execution_count": null,
      "outputs": [
        {
          "output_type": "stream",
          "name": "stdout",
          "text": [
            "0.027756963603099788 2.096300127436579e-35 0.9722430363969002 1.0\n"
          ]
        }
      ]
    },
    {
      "cell_type": "code",
      "source": [
        "x=curva_colab[0]\n",
        "y=curva_colab[1]\n",
        "Xlabel=\"Volume\"\n",
        "Ylabel=\"Diferença de Potencial E/mV\"\n",
        "plt.title(\"Curva de titulação\")\n",
        "plt.xlabel(Xlabel)\n",
        "plt.ylabel(Ylabel)\n",
        "plt.scatter(x,y)\n",
        "plt.show()"
      ],
      "metadata": {
        "colab": {
          "base_uri": "https://localhost:8080/",
          "height": 472
        },
        "id": "1mEf5VjnGhgS",
        "outputId": "b09f6bfd-1711-4d35-8cdf-cef74a5a88f4"
      },
      "execution_count": null,
      "outputs": [
        {
          "output_type": "display_data",
          "data": {
            "text/plain": [
              "<Figure size 640x480 with 1 Axes>"
            ],
            "image/png": "[encoded data removed]"
          },
          "metadata": {}
        }
      ]
    }
  ]
}